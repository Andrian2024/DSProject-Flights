{
 "cells": [
  {
   "cell_type": "code",
   "execution_count": 8,
   "metadata": {},
   "outputs": [],
   "source": [
    "import numpy as np\n",
    "import pandas as pd\n",
    "import matplotlib.pyplot as plt\n",
    "from itertools import permutations\n",
    "from datetime import datetime, timedelta\n",
    "import pickle\n",
    "import json\n",
    "\n"
   ]
  },
  {
   "cell_type": "code",
   "execution_count": 9,
   "metadata": {},
   "outputs": [],
   "source": [
    "df=pd.read_csv(\"flight_data_final.csv\")"
   ]
  },
  {
   "cell_type": "code",
   "execution_count": 10,
   "metadata": {},
   "outputs": [
    {
     "name": "stdout",
     "output_type": "stream",
     "text": [
      "   TTT  LOS Origin Destination Departure Date  Count\n",
      "0    3    4   Rome       Paris     13/03/2025    100\n",
      "1    8    5  Paris        Rome     18/03/2025    100\n",
      "2   16    3   Rome       Paris     26/03/2025    100\n",
      "3   21    2  Paris        Rome     31/03/2025    100\n",
      "4   22    2  Paris        Rome     01/04/2025    100\n",
      "5   24    2   Rome       Paris     03/04/2025    100\n",
      "6   25    5  Paris        Rome     04/04/2025    100\n",
      "7   26    4  Paris        Rome     05/04/2025    100\n"
     ]
    }
   ],
   "source": [
    "grouped_data = df.groupby(['TTT', 'LOS','Origin','Destination','Departure Date']).size().reset_index(name='Count').sort_values(by='Count')\n",
    "pd.set_option('display.max_rows', None)  # Show all rows\n",
    "pd.set_option('display.max_columns', None)  # Show all columns\n",
    "print(grouped_data)\n"
   ]
  },
  {
   "cell_type": "code",
   "execution_count": 11,
   "metadata": {},
   "outputs": [
    {
     "name": "stdout",
     "output_type": "stream",
     "text": [
      "Number of rows with Count less than 100: 0\n"
     ]
    }
   ],
   "source": [
    "new_data = pd.DataFrame(grouped_data)\n",
    "count_less_than_100 = (grouped_data['Count'] < 100).sum()\n",
    "print(f\"Number of rows with Count less than 100: {count_less_than_100}\")\n"
   ]
  },
  {
   "cell_type": "code",
   "execution_count": 12,
   "metadata": {},
   "outputs": [],
   "source": [
    "def split_list(lst):\n",
    "    mid = len(lst) // 2  # Find the middle index\n",
    "    return lst[:mid], lst[mid:]  # Split into two halves"
   ]
  },
  {
   "cell_type": "code",
   "execution_count": 13,
   "metadata": {},
   "outputs": [
    {
     "name": "stdout",
     "output_type": "stream",
     "text": [
      "0\n"
     ]
    }
   ],
   "source": [
    "start_date = datetime(2025, 3, 1)\n",
    "result = []\n",
    "for _, row in new_data[new_data['Count'] < 100].iterrows():\n",
    "    destination = row['Destination']\n",
    "    origin = row['Origin']\n",
    "    count = row['Count']\n",
    "    departure_date=row['Departure Date']\n",
    "    departure_date = datetime.strptime(departure_date, \"%d/%m/%Y\")\n",
    "    los=row['LOS']\n",
    "    result.append((origin,destination,departure_date.strftime(\"%Y-%m-%d\"),los))\n",
    "    \n",
    "print(len(result))\n",
    "first_half, second_half = split_list(result)\n"
   ]
  },
  {
   "cell_type": "code",
   "execution_count": 14,
   "metadata": {},
   "outputs": [],
   "source": [
    "\"\"\"with open('NeedToCompleteFlight_pt1.pkl', 'wb') as f:\n",
    "    pickle.dump(first_half, f)\n",
    "with open('NeedToCompleteFlight_pt2.pkl', 'wb') as f:\n",
    "    pickle.dump(second_half, f)\"\"\"\n",
    "with open('NeedToCompleteFlight.pkl', 'wb') as f:\n",
    "    pickle.dump(result, f)"
   ]
  }
 ],
 "metadata": {
  "kernelspec": {
   "display_name": "base",
   "language": "python",
   "name": "python3"
  },
  "language_info": {
   "codemirror_mode": {
    "name": "ipython",
    "version": 3
   },
   "file_extension": ".py",
   "mimetype": "text/x-python",
   "name": "python",
   "nbconvert_exporter": "python",
   "pygments_lexer": "ipython3",
   "version": "3.11.7"
  }
 },
 "nbformat": 4,
 "nbformat_minor": 2
}
